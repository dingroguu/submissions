{
 "cells": [
  {
   "cell_type": "code",
   "execution_count": 1,
   "metadata": {},
   "outputs": [],
   "source": [
    "import os\n",
    "import cv2 as cv\n",
    "import numpy as np\n",
    "from sklearn.model_selection import train_test_split\n",
    "from tensorflow.keras.layers import Input, Conv2D, MaxPooling2D, UpSampling2D, BatchNormalization, ReLU, Add, Concatenate\n",
    "from tensorflow.keras.models import Model\n",
    "from math import log10, sqrt \n",
    "import tensorflow as tf\n",
    "\n",
    "def load_images_from_folder(foldername, target_size=(64, 64)):\n",
    "    images = []\n",
    "    for filename in os.listdir(foldername):\n",
    "        img = cv.imread(os.path.join(foldername, filename), cv.IMREAD_GRAYSCALE)\n",
    "        if img is not None:\n",
    "            img = cv.resize(img, target_size)  \n",
    "            images.append(img)\n",
    "    return images\n",
    "\n",
    "\n",
    "# PSNR function from previous submission, modified for Tensor use \n",
    "def PSNR(original, compressed):\n",
    "    original = tf.cast(original, tf.float32)\n",
    "    compressed = tf.cast(compressed, tf.float32)      \n",
    "    mse = tf.reduce_mean(tf.square(original - compressed))\n",
    "    max_pixel = 255.0\n",
    "    psnr = 20 * tf.math.log(max_pixel / tf.sqrt(mse)) / tf.math.log(10.0)\n",
    "\n",
    "    return psnr \n",
    "\n",
    "input_img = Input(shape=(64, 64, 1))  \n",
    "\n",
    "def res_block(input):\n",
    "    x = Conv2D(32, (3,3), activation='relu', padding='same')(input)\n",
    "    x = BatchNormalization()(x)\n",
    "    x = Conv2D(64, (2,2), padding='same')(x)\n",
    "    out = Add()([input,x])\n",
    "    out = ReLU()(out)\n",
    "    out = BatchNormalization()(out)\n",
    "    return out\n",
    "\n",
    "def inception_block(input, ):\n",
    "    a = Conv2D(32, (1, 1), padding='same', activation='relu')(input)\n",
    "    b = Conv2D(64, (3, 3), padding='same', activation='relu')(input)\n",
    "    c = Conv2D(64, (5, 5), padding='same', activation='relu')(input)\n",
    "    d = MaxPooling2D((3, 3), strides=(1, 1), padding='same')(input)\n",
    "    d = Conv2D(32, (1, 1), padding='same', activation='relu')(d)\n",
    "\n",
    "    output = Concatenate(axis=-1)([a,b,c,d])\n",
    "    return output\n",
    "\n",
    "def encode (input):\n",
    "    x = Conv2D(32, (3, 3), activation='relu', padding='same')(input)\n",
    "    x = MaxPooling2D((2, 2), padding='same')(x)\n",
    "    x = Conv2D(64, (3, 3), activation='relu', padding='same')(x)\n",
    "    encoded = MaxPooling2D((2, 2), padding='same')(x)\n",
    "    return encoded\n",
    "def decode (input):\n",
    "    x = Conv2D(64, (3, 3), activation='relu', padding='same')(input)\n",
    "    x = UpSampling2D((2, 2))(x)\n",
    "    x = Conv2D(32, (3, 3), activation='relu', padding='same')(x)\n",
    "    x = UpSampling2D((2, 2))(x)\n",
    "    decoded = Conv2D(1, (3, 3), activation='sigmoid', padding='same')(x)\n",
    "    return decoded\n",
    "\n",
    "def res_forward(input):\n",
    "    encoded = encode(input)\n",
    "    res = res_block(encoded)\n",
    "    decoded = decode(res)\n",
    "    return decoded\n",
    "\n",
    "def inception_forward(input):\n",
    "    encoded = encode(input)\n",
    "    inception = inception_block(encoded)\n",
    "    decoded = decode(inception)\n",
    "    return decoded\n",
    "\n",
    "# Build autoencoder model\n",
    "autoencoder_res = Model(input_img, res_forward(input_img))\n",
    "autoencoder_res.compile(optimizer='adam', loss='binary_crossentropy')\n",
    "\n",
    "autoencoder_inception = Model(input_img, inception_forward(input_img))\n",
    "autoencoder_inception.compile(optimizer='adam', loss='binary_crossentropy')\n",
    "\n",
    "\n",
    "# Load images\n",
    "images=load_images_from_folder(\"pneumonia\")\n",
    "images = np.array(images)\n",
    "images = images.astype('float32') / 255.\n",
    "images = np.expand_dims(images, axis=-1)\n",
    "\n",
    "# Generate noisy images\n",
    "lam25noise = np.random.poisson(25, images.shape)\n",
    "lam25 = images + lam25noise\n",
    "\n",
    "lam50noise = np.random.poisson(50, images.shape)\n",
    "lam50 = images + lam50noise\n",
    "\n",
    "lam75noise = np.random.poisson(75, images.shape)\n",
    "lam75 = images + lam75noise\n",
    "\n",
    "\n",
    "# Split the dataset into training and testing sets (80% train, 20% test)\n",
    "x_train, x_test = train_test_split(images, test_size=0.2, random_state=42)\n",
    "train25, test25 = train_test_split(lam25, test_size=0.2, random_state=42)\n",
    "train50, test50 = train_test_split(lam50, test_size=0.2, random_state=42)\n",
    "train75, test75 = train_test_split(lam75, test_size=0.2, random_state=42)"
   ]
  },
  {
   "cell_type": "code",
   "execution_count": 12,
   "metadata": {},
   "outputs": [
    {
     "name": "stdout",
     "output_type": "stream",
     "text": [
      "15/15 [==============================] - 0s 23ms/step\n",
      "PSNR for Residual Skip Connections model on lam25: 20.177284\n",
      "15/15 [==============================] - 1s 37ms/step\n",
      "PSNR for Inception Network model on lam25: 20.04568\n"
     ]
    }
   ],
   "source": [
    "denoised_res_lam25 = autoencoder_res.predict(test25)\n",
    "psnr_res_lam25 = PSNR(test25, denoised_res_lam25).numpy()\n",
    "print(\"PSNR for Residual Skip Connections model on lam25:\", psnr_res_lam25)\n",
    "\n",
    "denoised_inception_lam25 = autoencoder_inception.predict(test25)\n",
    "psnr_inception_lam25 = PSNR(test25, denoised_inception_lam25).numpy()\n",
    "print(\"PSNR for Inception Network model on lam25:\", psnr_inception_lam25)"
   ]
  },
  {
   "cell_type": "markdown",
   "metadata": {},
   "source": [
    "#### 1) Which approach performed better for this particular task of denoising?"
   ]
  },
  {
   "cell_type": "markdown",
   "metadata": {},
   "source": [
    "Based on the PSNR (Peak Signal-to-Noise Ratio) values obtained for the lam25 noisy images:\n",
    "- PSNR for Residual Skip Connections model on lam25: 20.177284\n",
    "- PSNR for Inception Network model on lam25: 20.04568\n",
    "\n",
    "It can be observed that the Residual Skip Connections model achieved a higher PSNR value as compared to the Inception Network model. Since PSNR measures the quality of the denoised image wherein a higher value indicates better denoising, it can be concluded that Residual Blocks performed better for denoising the lambda 25 noisy images in this particular task."
   ]
  },
  {
   "cell_type": "markdown",
   "metadata": {},
   "source": [
    "#### 2. What is the intuition behind the improved model which made it ideal for this particular task?"
   ]
  },
  {
   "cell_type": "markdown",
   "metadata": {},
   "source": [
    "The improved model with Residual skip connections involve bypassing one or more intermediate layers by directly adding the input of a layer to its output. This allows the network to learn residual mappings, capturing the difference between the input and the output of a layer. By facilitating the flow of gradients during training and preserving useful information from earlier layers, residual skip connections enable the training of deeper networks and help mitigate the vanishing gradient problem. This mechanism contributes to improved learning efficiency and model performance in various tasks, including image denoising.\n",
    "\n",
    "On the other hand, the improved model with Inception blocks is ideal for denoising tasks due to its ability to capture features at multiple scales simultaneously. By incorporating convolutional filters of varying sizes and parallel pathways for feature extraction, the model can effectively preserve important details while removing noise. This adaptive combination of information and hierarchical representation learning enables the model to capture complex patterns present in noisy images, contributing to enhanced denoising performance."
   ]
  }
 ],
 "metadata": {
  "kernelspec": {
   "display_name": "Python 3 (ipykernel)",
   "language": "python",
   "name": "python3"
  },
  "language_info": {
   "codemirror_mode": {
    "name": "ipython",
    "version": 3
   },
   "file_extension": ".py",
   "mimetype": "text/x-python",
   "name": "python",
   "nbconvert_exporter": "python",
   "pygments_lexer": "ipython3",
   "version": "3.11.5"
  }
 },
 "nbformat": 4,
 "nbformat_minor": 2
}
